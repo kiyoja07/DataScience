{
 "cells": [
  {
   "cell_type": "markdown",
   "metadata": {},
   "source": [
    "# Basic Network Analysis"
   ]
  },
  {
   "cell_type": "code",
   "execution_count": 17,
   "metadata": {},
   "outputs": [],
   "source": [
    "import matplotlib.pyplot as plt\n",
    "import networkx as nx"
   ]
  },
  {
   "cell_type": "code",
   "execution_count": 3,
   "metadata": {},
   "outputs": [],
   "source": [
    "users = [\n",
    "    { \"id\": 0, \"name\": \"Hero\" },\n",
    "    { \"id\": 1, \"name\": \"Dunn\" },\n",
    "    { \"id\": 2, \"name\": \"Sue\" },\n",
    "    { \"id\": 3, \"name\": \"Chi\" },\n",
    "    { \"id\": 4, \"name\": \"Thor\" },\n",
    "    { \"id\": 5, \"name\": \"Clive\" },\n",
    "    { \"id\": 6, \"name\": \"Hicks\" },\n",
    "    { \"id\": 7, \"name\": \"Devin\" },\n",
    "    { \"id\": 8, \"name\": \"Kate\" },\n",
    "    { \"id\": 9, \"name\": \"Klein\" }\n",
    "]\n",
    "\n",
    "friendships = [(0, 1), (0, 2), (1, 2), (1, 3), (2, 3), (3, 4),\n",
    "               (4, 5), (5, 6), (5, 7), (6, 8), (7, 8), (8, 9)]"
   ]
  },
  {
   "cell_type": "markdown",
   "metadata": {},
   "source": [
    "`Networkx` 라이브러리를 이용한 시각화"
   ]
  },
  {
   "cell_type": "code",
   "execution_count": 4,
   "metadata": {},
   "outputs": [
    {
     "name": "stderr",
     "output_type": "stream",
     "text": [
      "/Users/yong/anaconda3/lib/python3.7/site-packages/networkx/drawing/nx_pylab.py:611: MatplotlibDeprecationWarning: isinstance(..., numbers.Number)\n",
      "  if cb.is_numlike(alpha):\n"
     ]
    },
    {
     "data": {
      "text/plain": [
       "<Figure size 640x480 with 1 Axes>"
      ]
     },
     "metadata": {},
     "output_type": "display_data"
    }
   ],
   "source": [
    "\n",
    "G = nx.Graph() # Create an empty graph with no nodes and no edges.\n",
    "\n",
    "labeldict = {}\n",
    "\n",
    "for user in users:\n",
    "    labeldict[user['id']] = user['name']\n",
    "\n",
    "for i, j in friendships:\n",
    "    G.add_edge(i, j)\n",
    "\n",
    "nx.draw(G, with_labels=True, font_weight='bold')\n",
    "plt.show()"
   ]
  },
  {
   "cell_type": "code",
   "execution_count": 5,
   "metadata": {},
   "outputs": [
    {
     "data": {
      "text/plain": [
       "(10, 10, 12)"
      ]
     },
     "execution_count": 5,
     "metadata": {},
     "output_type": "execute_result"
    }
   ],
   "source": [
    "len(G), G.number_of_nodes(), G.number_of_edges()"
   ]
  },
  {
   "cell_type": "code",
   "execution_count": 6,
   "metadata": {},
   "outputs": [
    {
     "data": {
      "text/plain": [
       "(True, [1, 3, 4, 5, 7])"
      ]
     },
     "execution_count": 6,
     "metadata": {},
     "output_type": "execute_result"
    }
   ],
   "source": [
    "nx.has_path(G, 1, 7), nx.shortest_path(G, 1, 7)"
   ]
  },
  {
   "cell_type": "code",
   "execution_count": 7,
   "metadata": {},
   "outputs": [
    {
     "data": {
      "text/plain": [
       "(True, False, <dict_keyiterator at 0xa1c18dd68>)"
      ]
     },
     "execution_count": 7,
     "metadata": {},
     "output_type": "execute_result"
    }
   ],
   "source": [
    "3 in G.neighbors(1), 4 in G.neighbors(1), G.neighbors(1)"
   ]
  },
  {
   "cell_type": "code",
   "execution_count": 8,
   "metadata": {},
   "outputs": [
    {
     "data": {
      "text/plain": [
       "[0, 2, 3]"
      ]
     },
     "execution_count": 8,
     "metadata": {},
     "output_type": "execute_result"
    }
   ],
   "source": [
    "[n for n in G.neighbors(1)]"
   ]
  },
  {
   "cell_type": "code",
   "execution_count": 9,
   "metadata": {},
   "outputs": [
    {
     "data": {
      "text/plain": [
       "[[1, 2, 0], [1, 2, 3]]"
      ]
     },
     "execution_count": 9,
     "metadata": {},
     "output_type": "execute_result"
    }
   ],
   "source": [
    "nx.cliques_containing_node(G, 1)"
   ]
  },
  {
   "cell_type": "markdown",
   "metadata": {},
   "source": [
    "무방향성 그래프의 노드 집합 중에서 모든 노드끼리 간선이 존재하면 그 노드 집합을 클리크(clique)라고 한다. 만약 클리크에 포함된 노드에 인접한 다른 노드를 추가하면 클리크가 아니게 되는 것을 최대클리크(maximal clique)라고 한다."
   ]
  },
  {
   "cell_type": "code",
   "execution_count": 10,
   "metadata": {},
   "outputs": [
    {
     "data": {
      "text/plain": [
       "[[0],\n",
       " [1],\n",
       " [2],\n",
       " [3],\n",
       " [4],\n",
       " [5],\n",
       " [6],\n",
       " [7],\n",
       " [8],\n",
       " [9],\n",
       " [0, 1],\n",
       " [0, 2],\n",
       " [1, 2],\n",
       " [1, 3],\n",
       " [2, 3],\n",
       " [3, 4],\n",
       " [4, 5],\n",
       " [5, 6],\n",
       " [5, 7],\n",
       " [6, 8],\n",
       " [7, 8],\n",
       " [8, 9],\n",
       " [0, 1, 2],\n",
       " [1, 2, 3]]"
      ]
     },
     "execution_count": 10,
     "metadata": {},
     "output_type": "execute_result"
    }
   ],
   "source": [
    "[c for c in nx.enumerate_all_cliques(G)]"
   ]
  },
  {
   "cell_type": "code",
   "execution_count": 11,
   "metadata": {},
   "outputs": [
    {
     "data": {
      "text/plain": [
       "[[1, 2, 0], [1, 2, 3], [4, 3], [4, 5], [5, 6], [5, 7], [6, 8], [7, 8], [8, 9]]"
      ]
     },
     "execution_count": 11,
     "metadata": {},
     "output_type": "execute_result"
    }
   ],
   "source": [
    "[c for c in nx.find_cliques(G)]"
   ]
  },
  {
   "cell_type": "markdown",
   "metadata": {},
   "source": [
    "# 연결 중심성 (Degree Centrality)"
   ]
  },
  {
   "cell_type": "code",
   "execution_count": 14,
   "metadata": {},
   "outputs": [],
   "source": [
    "# users에 친구목록 추가\n",
    "\n",
    "for user in users:\n",
    "    user['friends'] = []\n",
    "    \n",
    "for i, j in friendships:\n",
    "    users[i]['friends'].append(users[j]) # j를 i의 친구로 추가\n",
    "    users[j]['friends'].append(users[i]) # i를 j의 친구로 추가"
   ]
  },
  {
   "cell_type": "code",
   "execution_count": 107,
   "metadata": {},
   "outputs": [
    {
     "data": {
      "text/plain": [
       "24"
      ]
     },
     "execution_count": 107,
     "metadata": {},
     "output_type": "execute_result"
    }
   ],
   "source": [
    "# 총 친구 관계 수 구하기\n",
    "\n",
    "def number_of_friends(user):\n",
    "    return len(user['friends'])\n",
    "\n",
    "total_connections = sum(number_of_friends(user)\n",
    "                       for user in users)\n",
    "total_connections"
   ]
  },
  {
   "cell_type": "code",
   "execution_count": 108,
   "metadata": {},
   "outputs": [
    {
     "data": {
      "text/plain": [
       "2.4"
      ]
     },
     "execution_count": 108,
     "metadata": {},
     "output_type": "execute_result"
    }
   ],
   "source": [
    "# 평균 친구 관계 수 구하기\n",
    "\n",
    "num_users = len(users)\n",
    "avg_connections = total_connections / num_users\n",
    "avg_connections"
   ]
  },
  {
   "cell_type": "code",
   "execution_count": 109,
   "metadata": {},
   "outputs": [
    {
     "data": {
      "text/plain": [
       "[(1, 3),\n",
       " (2, 3),\n",
       " (3, 3),\n",
       " (5, 3),\n",
       " (8, 3),\n",
       " (0, 2),\n",
       " (4, 2),\n",
       " (6, 2),\n",
       " (7, 2),\n",
       " (9, 1)]"
      ]
     },
     "execution_count": 109,
     "metadata": {},
     "output_type": "execute_result"
    }
   ],
   "source": [
    "# 친구가 많은 순서로 id 정렬하기\n",
    "\n",
    "num_friends_by_id = [(user['id'], number_of_friends(user))\n",
    "                     for user in users]\n",
    "\n",
    "sorted(num_friends_by_id, key=lambda variables: variables[1], reverse=True)"
   ]
  },
  {
   "cell_type": "markdown",
   "metadata": {},
   "source": [
    "# 매개 중심성 (Betweenness Centrality)"
   ]
  },
  {
   "cell_type": "markdown",
   "metadata": {},
   "source": [
    "매개 중심성 : 임의의 두 사람 사이의 최단 경로상에 빈번하게 등장하는 사람들이 큰 값을 가지는 지수"
   ]
  },
  {
   "cell_type": "code",
   "execution_count": 16,
   "metadata": {},
   "outputs": [],
   "source": [
    "from collections import deque"
   ]
  },
  {
   "cell_type": "code",
   "execution_count": null,
   "metadata": {},
   "outputs": [],
   "source": [
    "# Breadth-First Search Algorithm\n",
    "def shortest_paths_from(from_user):\n",
    "\n",
    "    # 특정 사용자(key)로부터 해당 사용자에 도달할 때까지의 모든 최단 경로(value)를 포함하는 dict\n",
    "    shortest_paths_to = { from_user[\"id\"] : [[]] }\n",
    "\n",
    "    # 확인해야 하는 (prev_user, user) queue\n",
    "    # 모든 (from_user, friend_of_from_user) 쌍으로 시작\n",
    "    # deque는 double-ended queue로서 collections.deque는 list와 비슷\n",
    "    frontier = deque((from_user, friend)\n",
    "                     for friend in from_user[\"friends\"])\n",
    "\n",
    "    # queue가 빌 때까지 반복\n",
    "    while frontier:\n",
    "\n",
    "        prev_user, user = frontier.popleft() # popleft() : 왼쪽(앞쪽)에서 부터 차례로 제거와 반환\n",
    "        user_id = user[\"id\"] # 제거\n",
    "\n",
    "        # queue에 사용자를 추가하는 방법을 고려해 보면\n",
    "        # prev_user까지의 최단 경로를 이미 알고 있을 수도 있다\n",
    "        paths_to_prev = shortest_paths_to[prev_user[\"id\"]]\n",
    "        paths_via_prev = [path + [user_id] for path in paths_to_prev]\n",
    "\n",
    "        # 만약 최단 경로를 이미 알고 있다면\n",
    "        old_paths_to_here = shortest_paths_to.get(user_id, []) # get() : key에 대응되는 value를 리턴\n",
    "\n",
    "        # 지금까지의 최단 경로는 무었일까?\n",
    "        if old_paths_to_here:\n",
    "            min_path_length = len(old_paths_to_here[0])\n",
    "        else:\n",
    "            min_path_length = float('inf')\n",
    "\n",
    "        # 최단 경로보다 길지 않는 새로운 경로만 list로 저장\n",
    "        new_paths_to_here = [path_via_prev\n",
    "                             for path_via_prev in paths_via_prev\n",
    "                             if len(path_via_prev) <= min_path_length # 최단 경로보다 길지 않는 경로\n",
    "                             and path_via_prev not in old_paths_to_here] # 새로운 경로\n",
    "\n",
    "        shortest_paths_to[user_id] = old_paths_to_here + new_paths_to_here\n",
    "\n",
    "        # 아직 한 번도 보지 못한 이웃을 frontier에 추가\n",
    "        frontier.extend((user, friend)\n",
    "                        for friend in user[\"friends\"]\n",
    "                        if friend[\"id\"] not in shortest_paths_to)\n",
    "\n",
    "    return shortest_paths_to"
   ]
  },
  {
   "cell_type": "code",
   "execution_count": null,
   "metadata": {},
   "outputs": [],
   "source": []
  },
  {
   "cell_type": "code",
   "execution_count": null,
   "metadata": {},
   "outputs": [],
   "source": []
  },
  {
   "cell_type": "code",
   "execution_count": null,
   "metadata": {},
   "outputs": [],
   "source": []
  },
  {
   "cell_type": "code",
   "execution_count": null,
   "metadata": {},
   "outputs": [],
   "source": []
  },
  {
   "cell_type": "code",
   "execution_count": null,
   "metadata": {},
   "outputs": [],
   "source": []
  },
  {
   "cell_type": "code",
   "execution_count": null,
   "metadata": {},
   "outputs": [],
   "source": []
  },
  {
   "cell_type": "code",
   "execution_count": null,
   "metadata": {},
   "outputs": [],
   "source": []
  },
  {
   "cell_type": "markdown",
   "metadata": {},
   "source": [
    "# Directed Graph"
   ]
  },
  {
   "cell_type": "code",
   "execution_count": 110,
   "metadata": {},
   "outputs": [],
   "source": [
    "endorsements = [(0, 1), (1, 0), (0, 2), (2, 0), (1, 2), (2, 1), (1, 3),\n",
    "                (2, 3), (3, 4), (5, 4), (5, 6), (7, 5), (6, 8), (8, 7), (8, 9)]"
   ]
  },
  {
   "cell_type": "code",
   "execution_count": 163,
   "metadata": {},
   "outputs": [
    {
     "data": {
      "image/png": "[encoded data removed]",
      "text/plain": [
       "<Figure size 432x288 with 1 Axes>"
      ]
     },
     "metadata": {},
     "output_type": "display_data"
    }
   ],
   "source": [
    "import matplotlib.pyplot as plt\n",
    "import networkx as nx\n",
    "G = nx.DiGraph()\n",
    "\n",
    "labeldict = {}\n",
    "\n",
    "for user in users: \n",
    "    labeldict[user['id']] = user['name']\n",
    "\n",
    "for i, j in endorsements:\n",
    "    G.add_edge(i, j)\n",
    "\n",
    "nx.draw(G, labels=labeldict, with_labels=True, font_weight='bold')\n",
    "plt.title('Directed Graph')\n",
    "plt.show()"
   ]
  },
  {
   "cell_type": "code",
   "execution_count": 111,
   "metadata": {},
   "outputs": [],
   "source": [
    "# users에 지지 정보 입력\n",
    "\n",
    "for user in users:\n",
    "    user['endorses'] =[]\n",
    "    user['endorsed_by'] =[]\n",
    "\n",
    "for source_id, target_id in endorsements:\n",
    "    users[source_id]['endorses'].append(users[target_id])\n",
    "    users[target_id]['endorsed_by'].append(users[source_id])"
   ]
  },
  {
   "cell_type": "code",
   "execution_count": 112,
   "metadata": {},
   "outputs": [
    {
     "data": {
      "text/plain": [
       "[(0, 2),\n",
       " (1, 2),\n",
       " (2, 2),\n",
       " (3, 2),\n",
       " (4, 2),\n",
       " (5, 1),\n",
       " (6, 1),\n",
       " (7, 1),\n",
       " (8, 1),\n",
       " (9, 1)]"
      ]
     },
     "execution_count": 112,
     "metadata": {},
     "output_type": "execute_result"
    }
   ],
   "source": [
    "# 가장 지지를 많이 받은 순서로 출력\n",
    "\n",
    "endorsements_by_id = [(user['id'], len(user['endorsed_by']))\n",
    "                      for user in users]\n",
    "\n",
    "sorted(endorsements_by_id, key=lambda endorse: endorse[1], reverse=True)"
   ]
  },
  {
   "cell_type": "code",
   "execution_count": 113,
   "metadata": {},
   "outputs": [],
   "source": [
    "def page_rank(users, damping = 0.85, num_iters = 100):    \n",
    "    # 페이지 랭크를 모든 노드에 고르게 배당 -> 0.1씩 배당\n",
    "    num_users = len(users)\n",
    "    pr = {user['id'] : 1 / num_users for user in users} # {0:0.1, 1:0.1, ...}\n",
    "    # 매 스텝마다 각 노드가 받는 적은 양의 pr\n",
    "    base_pr = (1 - damping) / num_users # 0.015\n",
    "    \n",
    "    for __ in range(num_iters):\n",
    "        next_pr = {user['id'] : base_pr for user in users} # {0:0.015, 1:0.015, ...}\n",
    "        for user in users:\n",
    "            # 페이지 링크를 외부로 향하는 링크에 배당\n",
    "            links_pr = pr[user['id']] * damping # 0.085\n",
    "            for endorsee in user['endorses']:\n",
    "                # \n",
    "                next_pr[endorsee['id']] += links_pr / len(user['endorses'])\n",
    "            pr = next_pr\n",
    "    \n",
    "    return pr"
   ]
  },
  {
   "cell_type": "code",
   "execution_count": 175,
   "metadata": {},
   "outputs": [
    {
     "name": "stdout",
     "output_type": "stream",
     "text": [
      "PageRank\n",
      "0 0.034072428093901756\n",
      "1 0.04020032181750267\n",
      "2 0.03783367015621559\n",
      "3 0.034072428093901756\n",
      "4 0.05033656387981649\n",
      "5 0.027750000000000004\n",
      "6 0.021375000000000005\n",
      "7 0.029096718750000007\n",
      "8 0.03316875000000001\n",
      "9 0.029096718750000007\n",
      "(0, 0.034072428093901756)\n",
      "(1, 0.04020032181750267)\n",
      "(2, 0.03783367015621559)\n",
      "(3, 0.034072428093901756)\n",
      "(4, 0.05033656387981649)\n",
      "(5, 0.027750000000000004)\n",
      "(6, 0.021375000000000005)\n",
      "(7, 0.029096718750000007)\n",
      "(8, 0.03316875000000001)\n",
      "(9, 0.029096718750000007)\n"
     ]
    }
   ],
   "source": [
    "if __name__ == \"__main__\":\n",
    "\n",
    "    print(\"PageRank\")\n",
    "    for user_id, pr in page_rank(users).items():\n",
    "        print(user_id, pr)"
   ]
  },
  {
   "cell_type": "code",
   "execution_count": 222,
   "metadata": {},
   "outputs": [
    {
     "data": {
      "image/png": "[encoded data removed]",
      "text/plain": [
       "<Figure size 432x288 with 1 Axes>"
      ]
     },
     "metadata": {},
     "output_type": "display_data"
    }
   ],
   "source": [
    "import matplotlib.pyplot as plt\n",
    "import networkx as nx\n",
    "\n",
    "G = nx.DiGraph()\n",
    "\n",
    "labeldict = {}\n",
    "for user in users: \n",
    "    labeldict[user['id']] = user['name']\n",
    "\n",
    "for i, j in endorsements:\n",
    "    G.add_edge(i, j)\n",
    "\n",
    "    \n",
    "node_pr = {}\n",
    "for user_id, pr in page_rank(users).items():\n",
    "    node_pr[user_id] = pr * 100\n",
    "\n",
    "node_sizes = [v * 100 for v in node_pr.values()]\n",
    "\n",
    "nx.draw(G, labels=labeldict, with_labels=True, node_size=node_sizes)\n",
    "plt.title('Directed Graph')\n",
    "plt.show()"
   ]
  },
  {
   "cell_type": "code",
   "execution_count": null,
   "metadata": {},
   "outputs": [],
   "source": []
  }
 ],
 "metadata": {
  "kernelspec": {
   "display_name": "Python 3",
   "language": "python",
   "name": "python3"
  },
  "language_info": {
   "codemirror_mode": {
    "name": "ipython",
    "version": 3
   },
   "file_extension": ".py",
   "mimetype": "text/x-python",
   "name": "python",
   "nbconvert_exporter": "python",
   "pygments_lexer": "ipython3",
   "version": "3.7.1"
  }
 },
 "nbformat": 4,
 "nbformat_minor": 2
}
