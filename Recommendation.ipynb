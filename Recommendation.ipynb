{
 "cells": [
  {
   "cell_type": "markdown",
   "metadata": {},
   "source": [
    "# 추천 알고리즘 (Recommendation Algorithm)"
   ]
  },
  {
   "cell_type": "code",
   "execution_count": 22,
   "metadata": {},
   "outputs": [],
   "source": [
    "from numpy import dot\n",
    "from math import sqrt\n",
    "from collections import defaultdict, Counter"
   ]
  },
  {
   "cell_type": "code",
   "execution_count": 23,
   "metadata": {},
   "outputs": [],
   "source": [
    "users_interests = [\n",
    "    [\"Hadoop\", \"Big Data\", \"HBase\", \"Java\", \"Spark\", \"Storm\", \"Cassandra\"],\n",
    "    [\"Hadoop\", \"Big Data\", \"HBase\", \"Java\", \"Spark\", \"Storm\", \"Cassandra\"],\n",
    "    [\"Hadoop\", \"Big Data\", \"HBase\", \"Java\"],\n",
    "    [\"Hadoop\", \"Big Data\", \"HBase\", \"Java\", \"Postgres\", \"pandas\", \"MySQL\"],\n",
    "    [\"NoSQL\", \"MongoDB\", \"Cassandra\", \"HBase\", \"Postgres\"],\n",
    "    [\"Python\", \"scikit-learn\", \"scipy\", \"numpy\", \"statsmodels\", \"pandas\"],\n",
    "    [\"R\", \"Python\", \"statistics\", \"regression\", \"probability\"],\n",
    "    [\"machine learning\", \"regression\", \"decision trees\", \"libsvm\"],\n",
    "    [\"Python\", \"R\", \"Java\", \"C++\", \"Haskell\", \"programming languages\"],\n",
    "    [\"statistics\", \"probability\", \"mathematics\", \"theory\"],\n",
    "    [\"machine learning\", \"scikit-learn\", \"Mahout\", \"neural networks\"],\n",
    "    [\"neural networks\", \"deep learning\", \"Big Data\", \"artificial intelligence\"],\n",
    "    [\"Hadoop\", \"Java\", \"MapReduce\", \"Big Data\"],\n",
    "    [\"statistics\", \"R\", \"statsmodels\"],\n",
    "    [\"C++\", \"deep learning\", \"artificial intelligence\", \"probability\"],\n",
    "    [\"pandas\", \"R\", \"Python\"],\n",
    "    [\"databases\", \"HBase\", \"Postgres\", \"MySQL\", \"MongoDB\"],\n",
    "    [\"libsvm\", \"regression\", \"support vector machines\"]\n",
    "]"
   ]
  },
  {
   "cell_type": "markdown",
   "metadata": {},
   "source": [
    "## 1. 인기도를 활용한 추천"
   ]
  },
  {
   "cell_type": "code",
   "execution_count": 25,
   "metadata": {},
   "outputs": [],
   "source": [
    "# 전체 인기순 구하기\n",
    "popular_interests = Counter(interest\n",
    "                            for user_interests in users_interests\n",
    "                            for interest in user_interests).most_common()"
   ]
  },
  {
   "cell_type": "code",
   "execution_count": 26,
   "metadata": {},
   "outputs": [],
   "source": [
    "# 유저가 관심사에 적지 않은 항목들을 전체 인기순으로 유저에게 추천\n",
    "def most_popular_new_interests(user_interests, max_results=5):\n",
    "    suggestions = [(interest, frequency)\n",
    "                   for interest, frequency in popular_interests\n",
    "                   if interest not in user_interests]\n",
    "    return suggestions[:max_results]"
   ]
  },
  {
   "cell_type": "code",
   "execution_count": 27,
   "metadata": {},
   "outputs": [
    {
     "name": "stdout",
     "output_type": "stream",
     "text": [
      "Popular Interests\n",
      "[('Big Data', 6), ('HBase', 6), ('Java', 6), ('Hadoop', 5), ('Python', 4), ('R', 4), ('Cassandra', 3), ('Postgres', 3), ('pandas', 3), ('statistics', 3), ('regression', 3), ('probability', 3), ('Spark', 2), ('Storm', 2), ('MySQL', 2), ('MongoDB', 2), ('scikit-learn', 2), ('statsmodels', 2), ('machine learning', 2), ('libsvm', 2), ('C++', 2), ('neural networks', 2), ('deep learning', 2), ('artificial intelligence', 2), ('NoSQL', 1), ('scipy', 1), ('numpy', 1), ('decision trees', 1), ('Haskell', 1), ('programming languages', 1), ('mathematics', 1), ('theory', 1), ('Mahout', 1), ('MapReduce', 1), ('databases', 1), ('support vector machines', 1)]\n",
      "\n",
      "Most Popular New Interests\n",
      "already like: ['NoSQL', 'MongoDB', 'Cassandra', 'HBase', 'Postgres']\n",
      "[('Big Data', 6), ('Java', 6), ('Hadoop', 5), ('Python', 4), ('R', 4)]\n",
      "\n",
      "already like: ['R', 'Python', 'statistics', 'regression', 'probability']\n",
      "[('Big Data', 6), ('HBase', 6), ('Java', 6), ('Hadoop', 5), ('Cassandra', 3)]\n",
      "\n"
     ]
    }
   ],
   "source": [
    "if __name__ == \"__main__\":\n",
    "\n",
    "    print(\"Popular Interests\")\n",
    "    print(popular_interests)\n",
    "    print()\n",
    "\n",
    "    print(\"Most Popular New Interests\")\n",
    "    print(\"already like:\", [\"NoSQL\", \"MongoDB\", \"Cassandra\", \"HBase\", \"Postgres\"])\n",
    "    print(most_popular_new_interests([\"NoSQL\", \"MongoDB\", \"Cassandra\", \"HBase\", \"Postgres\"]))\n",
    "    print()\n",
    "    print(\"already like:\", [\"R\", \"Python\", \"statistics\", \"regression\", \"probability\"])\n",
    "    print(most_popular_new_interests([\"R\", \"Python\", \"statistics\", \"regression\", \"probability\"]))\n",
    "    print()"
   ]
  },
  {
   "cell_type": "markdown",
   "metadata": {},
   "source": [
    "## 2. 사용자 기반 협업 필터링 (user-based filtering)"
   ]
  },
  {
   "cell_type": "markdown",
   "metadata": {},
   "source": [
    "특정 사용자 A와 유사한 다른 사용자 B를 찾은 후, B의 관심사를 추천"
   ]
  },
  {
   "cell_type": "code",
   "execution_count": 5,
   "metadata": {},
   "outputs": [],
   "source": [
    "# user_interests의 항목을 unique한 리스트로 구하기\n",
    "unique_interests = sorted(list({ interest\n",
    "                                 for user_interests in users_interests\n",
    "                                 for interest in user_interests }))"
   ]
  },
  {
   "cell_type": "code",
   "execution_count": 6,
   "metadata": {},
   "outputs": [],
   "source": [
    "# user_interests의 항목을 unique와 비교하여 벡터로 만들기\n",
    "def make_user_interest_vector(user_interests):\n",
    "    \"\"\"unique_interest[i]가 user_interests에 존재한다면\n",
    "        i번째 요소가 1이고, 존재하지 않는다면 0인 벡터를 생성\"\"\"\n",
    "    return [1 if interest in user_interests else 0\n",
    "            for interest in unique_interests]\n",
    "\n",
    "# 모든 user_interests의 벡터 행렬\n",
    "user_interest_matrix = list(map(make_user_interest_vector, users_interests))"
   ]
  },
  {
   "cell_type": "code",
   "execution_count": 7,
   "metadata": {},
   "outputs": [],
   "source": [
    "# 벡터의 코사인 유사도 함수\n",
    "def cosine_similarity(v, w):\n",
    "    return dot(v, w) / sqrt(dot(v, v) * dot(w, w))"
   ]
  },
  {
   "cell_type": "markdown",
   "metadata": {},
   "source": [
    "cosine similarity는 두 벡터 v, w 사이의 각도를 잰다. 완전히 같은 방향이면 1, 완전히 반대 방향이면 -1, v, w 중 하나가 0이면 0을 나타낸다."
   ]
  },
  {
   "cell_type": "code",
   "execution_count": 8,
   "metadata": {},
   "outputs": [],
   "source": [
    "# 모든 벡터 2개 조합의 코사인 유사도 구하기\n",
    "user_similarities = [[cosine_similarity(interest_vector_i, interest_vector_j)\n",
    "                      for interest_vector_j in user_interest_matrix]\n",
    "                     for interest_vector_i in user_interest_matrix]"
   ]
  },
  {
   "cell_type": "code",
   "execution_count": 9,
   "metadata": {},
   "outputs": [],
   "source": [
    "# user_id와 가장 유사한 other_user_id 구하기\n",
    "def most_similar_users_to(user_id):\n",
    "    pairs = [(other_user_id, similarity)\n",
    "             for other_user_id, similarity in\n",
    "                enumerate(user_similarities[user_id])         # user_id와 다른 모든 유저의 similarity\n",
    "             if user_id != other_user_id and similarity > 0]  # id가 같지 않고, 유사도가 0이 아닌 것\n",
    "\n",
    "    return sorted(pairs, key=lambda pair: pair[1], reverse=True)    # similarity가 높은 순서대로 출력"
   ]
  },
  {
   "cell_type": "markdown",
   "metadata": {},
   "source": [
    "각각의 관심사에 대해 해당 관심사에 관심이 있는 다른 사용자와의 유사도를 모두 더해 새로운 관심사를 추천한다"
   ]
  },
  {
   "cell_type": "code",
   "execution_count": 10,
   "metadata": {},
   "outputs": [],
   "source": [
    "def user_based_suggestions(user_id, include_current_interests=False):\n",
    "    \n",
    "    suggestions = defaultdict(float)\n",
    "    \n",
    "    for other_user_id, similarity in most_similar_users_to(user_id):\n",
    "        for interest in users_interests[other_user_id]:\n",
    "            suggestions[interest] += similarity    # 다른 유저의 관심사의 similarity를 모두 더한다\n",
    "\n",
    "    # 정렬된 리스트로 변환\n",
    "    suggestions = sorted(suggestions.items(), key=lambda pair: pair[1], reverse=True)\n",
    "\n",
    "    \n",
    "    if include_current_interests:\n",
    "        return suggestions\n",
    "    else:\n",
    "        return [(suggestion, weight)\n",
    "                for suggestion, weight in suggestions\n",
    "                if suggestion not in users_interests[user_id]] # 자신의 관심사는 제외"
   ]
  },
  {
   "cell_type": "code",
   "execution_count": 11,
   "metadata": {},
   "outputs": [
    {
     "name": "stdout",
     "output_type": "stream",
     "text": [
      "User based similarity\n",
      "most similar to 0\n",
      "[(1, 1.0), (2, 0.7559289460184544), (3, 0.5714285714285714), (12, 0.5669467095138409), (4, 0.3380617018914066), (11, 0.1889822365046136), (16, 0.1690308509457033), (8, 0.1543033499620919)]\n",
      "Suggestions for 0\n",
      "[('Postgres', 1.0785211242656814), ('MySQL', 0.7404594223742746), ('pandas', 0.5714285714285714), ('MapReduce', 0.5669467095138409), ('MongoDB', 0.50709255283711), ('NoSQL', 0.3380617018914066), ('neural networks', 0.1889822365046136), ('deep learning', 0.1889822365046136), ('artificial intelligence', 0.1889822365046136), ('databases', 0.1690308509457033), ('Python', 0.1543033499620919), ('R', 0.1543033499620919), ('C++', 0.1543033499620919), ('Haskell', 0.1543033499620919), ('programming languages', 0.1543033499620919)]\n",
      "\n"
     ]
    }
   ],
   "source": [
    "if __name__ == \"__main__\":\n",
    "    \n",
    "    print(\"User based similarity\")\n",
    "    print(\"most similar to 0\")\n",
    "    print(most_similar_users_to(0))\n",
    "\n",
    "    print(\"Suggestions for 0\")\n",
    "    print(user_based_suggestions(0))\n",
    "    print()"
   ]
  },
  {
   "cell_type": "markdown",
   "metadata": {},
   "source": [
    "차원이 아주 커지면, 대부분의 벡터는 서로 상당히 다른 방향을 가리키게 된다.<br/>\n",
    "즉, 관심사의 수가 아주 많아지면 특정 사용자와 가장 유사한 사용자는 전혀 유사하지 않을 가능성이 있다."
   ]
  },
  {
   "cell_type": "markdown",
   "metadata": {},
   "source": [
    "## 3. 상품 기반 협업 필터링 (Item-Based Collaborative Filtering)"
   ]
  },
  {
   "cell_type": "markdown",
   "metadata": {},
   "source": [
    "사용자의 현재 관심사와 가장 유사한 관심사들을 직접 추천"
   ]
  },
  {
   "cell_type": "code",
   "execution_count": 12,
   "metadata": {},
   "outputs": [],
   "source": [
    "# user_interest_matrix의 전치행렬(transposed matrix) 구하기\n",
    "interest_user_matrix = [[user_interest_vector[j]\n",
    "                         for user_interest_vector in user_interest_matrix]\n",
    "                        for j, _ in enumerate(unique_interests)]"
   ]
  },
  {
   "cell_type": "code",
   "execution_count": 13,
   "metadata": {},
   "outputs": [],
   "source": [
    "# cosine similarity를 이용하여 interest 벡터의 유사도 구하기\n",
    "# 완전히 동일한 유저의 집합이 두 관심사에 관심이 있으면 1, 두 관심사에 동일하게 관심을 갖는 유저가 없으면 0\n",
    "interest_similarities = [[cosine_similarity(user_vector_i, user_vector_j)\n",
    "                          for user_vector_j in interest_user_matrix]\n",
    "                         for user_vector_i in interest_user_matrix]"
   ]
  },
  {
   "cell_type": "code",
   "execution_count": 14,
   "metadata": {},
   "outputs": [],
   "source": [
    "def most_similar_interests_to(interest_id):\n",
    "    \n",
    "    \"\"\" interest_id와 similarity가 높은 other_interest_id 구하기 \"\"\"\n",
    "    \n",
    "    similarities = interest_similarities[interest_id]\n",
    "    \n",
    "    pairs = [(unique_interests[other_interest_id], similarity)\n",
    "             for other_interest_id, similarity in enumerate(similarities)\n",
    "             if interest_id != other_interest_id and similarity > 0] # 같은 interest_id & similarity = 0 제외 \n",
    "    \n",
    "    return sorted(pairs, key=lambda pair: pair[1], reverse=True)"
   ]
  },
  {
   "cell_type": "code",
   "execution_count": 15,
   "metadata": {},
   "outputs": [
    {
     "name": "stdout",
     "output_type": "stream",
     "text": [
      "[('Hadoop', 0.9128709291752769), ('Java', 0.8333333333333334), ('HBase', 0.6666666666666666), ('Spark', 0.5773502691896258), ('Storm', 0.5773502691896258), ('Cassandra', 0.47140452079103173), ('MapReduce', 0.4082482904638631), ('MySQL', 0.2886751345948129), ('artificial intelligence', 0.2886751345948129), ('deep learning', 0.2886751345948129), ('neural networks', 0.2886751345948129), ('Postgres', 0.23570226039551587), ('pandas', 0.23570226039551587)]\n"
     ]
    }
   ],
   "source": [
    "print(most_similar_interests_to(0))"
   ]
  },
  {
   "cell_type": "code",
   "execution_count": 17,
   "metadata": {},
   "outputs": [],
   "source": [
    "# 추천 목록은 사용자의 관심사와 유사한 관심사들의 유사도의 합으로 산출\n",
    "def item_based_suggestions(user_id, include_current_interests=False):\n",
    "    \n",
    "    suggestions = defaultdict(float)\n",
    "    \n",
    "    user_interest_vector = user_interest_matrix[user_id]\n",
    "    \n",
    "    for interest_id, is_interested in enumerate(user_interest_vector):\n",
    "        if is_interested == 1:\n",
    "            similar_interests = most_similar_interests_to(interest_id)\n",
    "            for interest, similarity in similar_interests:\n",
    "                suggestions[interest] += similarity\n",
    "\n",
    "    # 정렬된 리스트로 변환\n",
    "    suggestions = sorted(suggestions.items(), key=lambda pair: pair[1], reverse=True)\n",
    "    \n",
    "    if include_current_interests:\n",
    "        return suggestions\n",
    "    else:\n",
    "        return [(suggestion, weight)\n",
    "                for suggestion, weight in suggestions\n",
    "                if suggestion not in users_interests[user_id]] # 자신의 관심사는 제외"
   ]
  },
  {
   "cell_type": "code",
   "execution_count": 18,
   "metadata": {},
   "outputs": [
    {
     "name": "stdout",
     "output_type": "stream",
     "text": [
      "Item based similarity\n",
      "most similar to 'Big Data'\n",
      "[('Hadoop', 0.9128709291752769), ('Java', 0.8333333333333334), ('HBase', 0.6666666666666666), ('Spark', 0.5773502691896258), ('Storm', 0.5773502691896258), ('Cassandra', 0.47140452079103173), ('MapReduce', 0.4082482904638631), ('MySQL', 0.2886751345948129), ('artificial intelligence', 0.2886751345948129), ('deep learning', 0.2886751345948129), ('neural networks', 0.2886751345948129), ('Postgres', 0.23570226039551587), ('pandas', 0.23570226039551587)]\n",
      "\n",
      "suggestions for user 0\n",
      "[('Postgres', 1.7700435250580735), ('MySQL', 1.4709283043960897), ('MapReduce', 1.2637101764276841), ('NoSQL', 0.9855985596534889), ('MongoDB', 0.9855985596534889), ('pandas', 0.9653056709337087), ('databases', 0.4082482904638631), ('Haskell', 0.4082482904638631), ('programming languages', 0.4082482904638631), ('artificial intelligence', 0.2886751345948129), ('deep learning', 0.2886751345948129), ('neural networks', 0.2886751345948129), ('C++', 0.2886751345948129), ('Python', 0.20412414523193154), ('R', 0.20412414523193154)]\n"
     ]
    }
   ],
   "source": [
    "if __name__ == \"__main__\":\n",
    "\n",
    "    print(\"Item based similarity\")\n",
    "    print(\"most similar to 'Big Data'\")\n",
    "    print(most_similar_interests_to(0))\n",
    "    print()\n",
    "\n",
    "    print(\"suggestions for user 0\")\n",
    "    print(item_based_suggestions(0))"
   ]
  },
  {
   "cell_type": "code",
   "execution_count": null,
   "metadata": {},
   "outputs": [],
   "source": []
  }
 ],
 "metadata": {
  "kernelspec": {
   "display_name": "Python 3",
   "language": "python",
   "name": "python3"
  },
  "language_info": {
   "codemirror_mode": {
    "name": "ipython",
    "version": 3
   },
   "file_extension": ".py",
   "mimetype": "text/x-python",
   "name": "python",
   "nbconvert_exporter": "python",
   "pygments_lexer": "ipython3",
   "version": "3.7.1"
  }
 },
 "nbformat": 4,
 "nbformat_minor": 2
}
