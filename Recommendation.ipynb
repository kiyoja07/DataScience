{
 "cells": [
  {
   "cell_type": "markdown",
   "metadata": {},
   "source": [
    "## 사용자 기반 협업 필터링"
   ]
  },
  {
   "cell_type": "markdown",
   "metadata": {},
   "source": [
    "특정 사용자 A와 유사한 다른 사용자 B를 찾은 후, B의 관심사를 추천"
   ]
  },
  {
   "cell_type": "code",
   "execution_count": 44,
   "metadata": {},
   "outputs": [],
   "source": [
    "from numpy import dot\n",
    "from math import sqrt\n",
    "from collections import defaultdict"
   ]
  },
  {
   "cell_type": "code",
   "execution_count": 45,
   "metadata": {},
   "outputs": [],
   "source": [
    "users_interests = [\n",
    "    [\"Hadoop\", \"Big Data\", \"HBase\", \"Java\", \"Spark\", \"Storm\", \"Cassandra\"],\n",
    "    [\"Hadoop\", \"Big Data\", \"HBase\", \"Java\", \"Spark\", \"Storm\", \"Cassandra\"],\n",
    "    [\"Hadoop\", \"Big Data\", \"HBase\", \"Java\"],\n",
    "    [\"Hadoop\", \"Big Data\", \"HBase\", \"Java\", \"Postgres\", \"pandas\", \"MySQL\"],\n",
    "    [\"NoSQL\", \"MongoDB\", \"Cassandra\", \"HBase\", \"Postgres\"],\n",
    "    [\"Python\", \"scikit-learn\", \"scipy\", \"numpy\", \"statsmodels\", \"pandas\"],\n",
    "    [\"R\", \"Python\", \"statistics\", \"regression\", \"probability\"],\n",
    "    [\"machine learning\", \"regression\", \"decision trees\", \"libsvm\"],\n",
    "    [\"Python\", \"R\", \"Java\", \"C++\", \"Haskell\", \"programming languages\"],\n",
    "    [\"statistics\", \"probability\", \"mathematics\", \"theory\"],\n",
    "    [\"machine learning\", \"scikit-learn\", \"Mahout\", \"neural networks\"],\n",
    "    [\"neural networks\", \"deep learning\", \"Big Data\", \"artificial intelligence\"],\n",
    "    [\"Hadoop\", \"Java\", \"MapReduce\", \"Big Data\"],\n",
    "    [\"statistics\", \"R\", \"statsmodels\"],\n",
    "    [\"C++\", \"deep learning\", \"artificial intelligence\", \"probability\"],\n",
    "    [\"pandas\", \"R\", \"Python\"],\n",
    "    [\"databases\", \"HBase\", \"Postgres\", \"MySQL\", \"MongoDB\"],\n",
    "    [\"libsvm\", \"regression\", \"support vector machines\"]\n",
    "]"
   ]
  },
  {
   "cell_type": "code",
   "execution_count": 46,
   "metadata": {},
   "outputs": [],
   "source": [
    "# user_interests의 항목을 unique한 리스트로 구하기\n",
    "unique_interests = sorted(list({ interest\n",
    "                                 for user_interests in users_interests\n",
    "                                 for interest in user_interests }))"
   ]
  },
  {
   "cell_type": "code",
   "execution_count": 47,
   "metadata": {},
   "outputs": [],
   "source": [
    "# user_interests의 항목을 unique와 비교하여 벡터로 만들기\n",
    "def make_user_interest_vector(user_interests):\n",
    "    \"\"\"unique_interest[i]가 user_interests에 존재한다면\n",
    "        i번째 요소가 1이고, 존재하지 않는다면 0인 벡터를 생성\"\"\"\n",
    "    return [1 if interest in user_interests else 0\n",
    "            for interest in unique_interests]\n",
    "\n",
    "# 모든 user_interests의 벡터 행렬\n",
    "user_interest_matrix = list(map(make_user_interest_vector, users_interests))"
   ]
  },
  {
   "cell_type": "code",
   "execution_count": 48,
   "metadata": {},
   "outputs": [],
   "source": [
    "# 벡터의 코사인 유사도 함수\n",
    "def cosine_similarity(v, w):\n",
    "    return dot(v, w) / sqrt(dot(v, v) * dot(w, w))"
   ]
  },
  {
   "cell_type": "markdown",
   "metadata": {},
   "source": [
    "cosine similarity는 두 벡터 v, w 사이의 각도를 잰다. 완전히 같은 방향이면 1, 완전히 반대 방향이면 -1, v, w 중 하나가 0이면 0을 나타낸다."
   ]
  },
  {
   "cell_type": "code",
   "execution_count": 49,
   "metadata": {},
   "outputs": [],
   "source": [
    "# 모든 벡터 2개 조합의 코사인 유사도 구하기\n",
    "user_similarities = [[cosine_similarity(interest_vector_i, interest_vector_j)\n",
    "                      for interest_vector_j in user_interest_matrix]\n",
    "                     for interest_vector_i in user_interest_matrix]"
   ]
  },
  {
   "cell_type": "code",
   "execution_count": 50,
   "metadata": {},
   "outputs": [],
   "source": [
    "# user_id와 가장 유사한 other_user_id 구하기\n",
    "def most_similar_users_to(user_id):\n",
    "    pairs = [(other_user_id, similarity)\n",
    "             for other_user_id, similarity in\n",
    "                enumerate(user_similarities[user_id])         # user_id와 다른 모든 유저의 similarity\n",
    "             if user_id != other_user_id and similarity > 0]  # id가 같지 않고, 유사도가 0이 아닌 것\n",
    "\n",
    "    return sorted(pairs, key=lambda pair: pair[1], reverse=True)    # similarity가 높은 순서대로 출력"
   ]
  },
  {
   "cell_type": "markdown",
   "metadata": {},
   "source": [
    "각각의 관심사에 대해 해당 관심사에 관심이 있는 다른 사용자와의 유사도를 모두 더해 새로운 관심사를 추천한다"
   ]
  },
  {
   "cell_type": "code",
   "execution_count": 51,
   "metadata": {},
   "outputs": [],
   "source": [
    "def user_based_suggestions(user_id, include_current_interests=False):\n",
    "    \n",
    "    suggestions = defaultdict(float)\n",
    "    \n",
    "    for other_user_id, similarity in most_similar_users_to(user_id):\n",
    "        for interest in users_interests[other_user_id]:\n",
    "            suggestions[interest] += similarity    # 다른 유저의 관심사의 similarity를 모두 더한다\n",
    "\n",
    "    # 정렬된 리스트로 변환\n",
    "    suggestions = sorted(suggestions.items(), key=lambda pair: pair[1], reverse=True)\n",
    "\n",
    "    # 이미 관심사로 표시한 것은 제외\n",
    "    if include_current_interests:\n",
    "        return suggestions\n",
    "    else:\n",
    "        return [(suggestion, weight)\n",
    "                for suggestion, weight in suggestions\n",
    "                if suggestion not in users_interests[user_id]]"
   ]
  },
  {
   "cell_type": "code",
   "execution_count": 52,
   "metadata": {},
   "outputs": [
    {
     "name": "stdout",
     "output_type": "stream",
     "text": [
      "User based similarity\n",
      "most similar to 0\n",
      "[(1, 1.0), (2, 0.7559289460184544), (3, 0.5714285714285714), (12, 0.5669467095138409), (4, 0.3380617018914066), (11, 0.1889822365046136), (16, 0.1690308509457033), (8, 0.1543033499620919)]\n",
      "Suggestions for 0\n",
      "[('Postgres', 1.0785211242656814), ('MySQL', 0.7404594223742746), ('pandas', 0.5714285714285714), ('MapReduce', 0.5669467095138409), ('MongoDB', 0.50709255283711), ('NoSQL', 0.3380617018914066), ('neural networks', 0.1889822365046136), ('deep learning', 0.1889822365046136), ('artificial intelligence', 0.1889822365046136), ('databases', 0.1690308509457033), ('Python', 0.1543033499620919), ('R', 0.1543033499620919), ('C++', 0.1543033499620919), ('Haskell', 0.1543033499620919), ('programming languages', 0.1543033499620919)]\n",
      "\n"
     ]
    }
   ],
   "source": [
    "if __name__ == \"__main__\":\n",
    "    \n",
    "    print(\"User based similarity\")\n",
    "    print(\"most similar to 0\")\n",
    "    print(most_similar_users_to(0))\n",
    "\n",
    "    print(\"Suggestions for 0\")\n",
    "    print(user_based_suggestions(0))\n",
    "    print()"
   ]
  },
  {
   "cell_type": "markdown",
   "metadata": {},
   "source": [
    "차원이 아주 커지면, 대부분의 벡터는 서로 상당히 다른 방향을 가리키게 된다."
   ]
  },
  {
   "cell_type": "markdown",
   "metadata": {},
   "source": [
    "즉, 관심사의 수가 아주 많아지면 특정 사용자와 가장 유사한 사용자는 전혀 유사하지 않을 가능성이 있다."
   ]
  },
  {
   "cell_type": "code",
   "execution_count": null,
   "metadata": {},
   "outputs": [],
   "source": []
  }
 ],
 "metadata": {
  "kernelspec": {
   "display_name": "Python 3",
   "language": "python",
   "name": "python3"
  },
  "language_info": {
   "codemirror_mode": {
    "name": "ipython",
    "version": 3
   },
   "file_extension": ".py",
   "mimetype": "text/x-python",
   "name": "python",
   "nbconvert_exporter": "python",
   "pygments_lexer": "ipython3",
   "version": "3.7.1"
  }
 },
 "nbformat": 4,
 "nbformat_minor": 2
}
